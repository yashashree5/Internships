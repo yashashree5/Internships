{
  "nbformat": 4,
  "nbformat_minor": 0,
  "metadata": {
    "colab": {
      "provenance": [],
      "authorship_tag": "ABX9TyMRAZWnqKoNBMcjjqf7cWe3",
      "include_colab_link": true
    },
    "kernelspec": {
      "name": "python3",
      "display_name": "Python 3"
    },
    "language_info": {
      "name": "python"
    }
  },
  "cells": [
    {
      "cell_type": "markdown",
      "metadata": {
        "id": "view-in-github",
        "colab_type": "text"
      },
      "source": [
        "<a href=\"https://colab.research.google.com/github/yashashree5/WEB08/blob/main/Final_project.ipynb\" target=\"_parent\"><img src=\"https://colab.research.google.com/assets/colab-badge.svg\" alt=\"Open In Colab\"/></a>"
      ]
    },
    {
      "cell_type": "code",
      "source": [
        "# pip install numpy --upgrade\n",
        "! pip install mahotas\n",
        "\n"
      ],
      "metadata": {
        "colab": {
          "base_uri": "https://localhost:8080/"
        },
        "id": "JcDiQtRwKLCh",
        "outputId": "bcb3a2cc-553a-4724-9468-f2c891e34f71"
      },
      "execution_count": 14,
      "outputs": [
        {
          "output_type": "stream",
          "name": "stdout",
          "text": [
            "Looking in indexes: https://pypi.org/simple, https://us-python.pkg.dev/colab-wheels/public/simple/\n",
            "Requirement already satisfied: mahotas in /usr/local/lib/python3.8/dist-packages (1.4.13)\n",
            "Requirement already satisfied: numpy in /usr/local/lib/python3.8/dist-packages (from mahotas) (1.24.2)\n"
          ]
        }
      ]
    },
    {
      "cell_type": "code",
      "source": [
        "import numpy as np\n",
        "import cv2\n",
        "\n",
        "# Load an image\n",
        "img = cv2.imread('/content/sample_data/35 (8).jpg')\n",
        "\n",
        "# Calculate mean\n",
        "mean = np.mean(img)\n",
        "\n",
        "print(\"Mean:\", mean)\n"
      ],
      "metadata": {
        "colab": {
          "base_uri": "https://localhost:8080/"
        },
        "id": "m-XS1-AOJ7GQ",
        "outputId": "3fe4ff5f-25fb-41c2-daf8-d0e7d8f60332"
      },
      "execution_count": 21,
      "outputs": [
        {
          "output_type": "stream",
          "name": "stdout",
          "text": [
            "Mean: 144.403828125\n"
          ]
        }
      ]
    },
    {
      "cell_type": "code",
      "source": [],
      "metadata": {
        "id": "w6sDr1t_bldz"
      },
      "execution_count": null,
      "outputs": []
    },
    {
      "cell_type": "code",
      "source": [
        "import numpy as np\n",
        "import cv2\n",
        "\n",
        "\n",
        "images = []\n",
        "for i in range(1,3):\n",
        "    images.append(cv2.imread(f'/content/sample_data/{i}.jpg'))\n",
        "\n",
        "means = [np.mean(img) for img in images]\n",
        "\n",
        "\n",
        "means = np.array(means).reshape(-1, 1)\n",
        "\n",
        "from sklearn.cluster import KMeans\n",
        "kmeans = KMeans(n_clusters=2, random_state=0).fit(means)\n",
        "\n",
        "print(kmeans)\n",
        "clusters = kmeans.predict(means)\n",
        "\n",
        "for i, cluster in enumerate(clusters):\n",
        "    print(f'content/sample_data/{i}: Cluster {cluster}')\n"
      ],
      "metadata": {
        "colab": {
          "base_uri": "https://localhost:8080/"
        },
        "id": "x0oweWoXLp6e",
        "outputId": "f3f57b29-4fb7-4dce-ff80-859b1afc1776"
      },
      "execution_count": 40,
      "outputs": [
        {
          "output_type": "stream",
          "name": "stdout",
          "text": [
            "KMeans(n_clusters=2, random_state=0)\n",
            "content/sample_data/0: Cluster 0\n",
            "content/sample_data/1: Cluster 1\n"
          ]
        }
      ]
    }
  ]
}